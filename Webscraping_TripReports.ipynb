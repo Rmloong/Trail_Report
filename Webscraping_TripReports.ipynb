{
 "cells": [
  {
   "cell_type": "code",
   "execution_count": 3,
   "metadata": {
    "collapsed": true
   },
   "outputs": [],
   "source": [
    "import requests\n",
    "from bs4 import BeautifulSoup\n",
    "from pymongo import MongoClient\n",
    "import pymongo\n",
    "import math\n",
    "import pandas as pd\n",
    "from multiprocessing.dummy import Pool\n",
    "from multiprocessing import cpu_count"
   ]
  },
  {
   "cell_type": "code",
   "execution_count": 4,
   "metadata": {
    "collapsed": true
   },
   "outputs": [],
   "source": [
    "mc = pymongo.MongoClient()\n",
    "db = mc['reports']\n",
    "mt_ellinor_reports = db['mt_ellinor']"
   ]
  },
  {
   "cell_type": "markdown",
   "metadata": {},
   "source": [
    " WARNING: If you want to clear the current database"
   ]
  },
  {
   "cell_type": "code",
   "execution_count": null,
   "metadata": {
    "collapsed": true
   },
   "outputs": [],
   "source": [
    "mt_ellinor_reports.drop()"
   ]
  },
  {
   "cell_type": "markdown",
   "metadata": {},
   "source": [
    "If you need to problem solve: %pdb"
   ]
  },
  {
   "cell_type": "code",
   "execution_count": 5,
   "metadata": {
    "collapsed": true
   },
   "outputs": [],
   "source": [
    "def select_text(parent_element, css_selector):\n",
    "    element = parent_element.select_one(css_selector)\n",
    "    return get_text_if_not_none(element)"
   ]
  },
  {
   "cell_type": "code",
   "execution_count": 6,
   "metadata": {
    "collapsed": true
   },
   "outputs": [],
   "source": [
    "def get_text_if_not_none(element):\n",
    "    if element is None:\n",
    "        text = None\n",
    "    else:\n",
    "        text = element.text\n",
    "    return text"
   ]
  },
  {
   "cell_type": "code",
   "execution_count": 7,
   "metadata": {
    "collapsed": true
   },
   "outputs": [],
   "source": [
    "def parse_trip_report(trip_report_div):\n",
    "    \"\"\"Return a dictionary representing a single trip report.\"\"\"\n",
    "    creator = select_text(trip_report_div, 'div.CreatorInfo span a')\n",
    "    date = select_text(trip_report_div, 'span.elapsed-time')\n",
    "    report = select_text(trip_report_div,'div.show-with-full')\n",
    "    trail_conditions = select_text(trip_report_div,'div.trail-issues')\n",
    "    votes = select_text(trip_report_div,'span.UpvoteCount')\n",
    "    return {\n",
    "        \"Creator\": creator,\n",
    "        \"Date\": date,\n",
    "        \"Report\": report,\n",
    "        \"Trail_condtions\": trail_conditions,\n",
    "        \"Votes\": votes\n",
    "    }"
   ]
  },
  {
   "cell_type": "code",
   "execution_count": 8,
   "metadata": {
    "collapsed": true
   },
   "outputs": [],
   "source": [
    "def get_trail_report(title, hikeurl, params=None):\n",
    "    \"\"\"Accepts a url of the hike, finds all of the subsequent trip reports for that hike,\n",
    "    scrapes them and inserts them into a MongoDB\n",
    "    **Input parameters**\n",
    "    ------------------------------------------------------------------------------\n",
    "    title: string.  Hike name.\n",
    "    hikeurl: string. Base URL for the request.\n",
    "    params: dictionary.  Parameters to be included in the request.\n",
    "    **Output**\n",
    "    ------------------------------------------------------------------------------\n",
    "    None. Appends entry to MongoDB using Pymongo\n",
    "    \"\"\"\n",
    "    r = requests.get(hikeurl + '/@@related_tripreport_listing', params).text\n",
    "    #\n",
    "    soup = BeautifulSoup(r, 'lxml')\n",
    "    for trip_report_div in soup.select('div#trip-reports div.item'):\n",
    "        trip_report = parse_trip_report(trip_report_div)\n",
    "        mt_ellinor_reports.insert_one(trip_report)"
   ]
  },
  {
   "cell_type": "code",
   "execution_count": 9,
   "metadata": {
    "collapsed": true
   },
   "outputs": [],
   "source": [
    "def iterate_all_reports(title, hikeurl):\n",
    "    \"\"\"Determines the number of times to call getTripReports function based on\n",
    "    the number of trip reports listed on the hike homepage.\n",
    "    **Input parameters**\n",
    "    ------------------------------------------------------------------------------\n",
    "    title: string.  Hike name.\n",
    "    hikeurl: string. Base URL for the request.\n",
    "    **Output**\n",
    "    ------------------------------------------------------------------------------\n",
    "    None. Appends entry to MongoDB using pymongo.\n",
    "    \"\"\"\n",
    "    #lists how many reports are on the page\n",
    "    r = requests.get(hikeurl + '/@@related_tripreport_listing').text\n",
    "    soup = BeautifulSoup(r, 'lxml')\n",
    "    numit = math.ceil(float(soup.find('div', {'id': 'count-data'}).text)/5)\n",
    "    for i in range(int(numit)):\n",
    "        get_trail_report(title, hikeurl, params={'b_start:int': str(i*5)})"
   ]
  },
  {
   "cell_type": "code",
   "execution_count": 10,
   "metadata": {},
   "outputs": [
    {
     "ename": "TypeError",
     "evalue": "string indices must be integers",
     "output_type": "error",
     "traceback": [
      "\u001b[0;31m---------------------------------------------------------------------------\u001b[0m",
      "\u001b[0;31mTypeError\u001b[0m                                 Traceback (most recent call last)",
      "\u001b[0;32m<ipython-input-10-ca0a57a72bb5>\u001b[0m in \u001b[0;36m<module>\u001b[0;34m()\u001b[0m\n\u001b[0;32m----> 1\u001b[0;31m \u001b[0miterate_all_reports\u001b[0m\u001b[0;34m(\u001b[0m\u001b[0;34m'mt_ellinor'\u001b[0m\u001b[0;34m,\u001b[0m\u001b[0;34m\"https://www.wta.org/go-hiking/hikes/mount-ellinor\"\u001b[0m\u001b[0;34m)\u001b[0m\u001b[0;34m\u001b[0m\u001b[0m\n\u001b[0m",
      "\u001b[0;32m<ipython-input-9-6ac835ede41b>\u001b[0m in \u001b[0;36miterate_all_reports\u001b[0;34m(title, hikeurl)\u001b[0m\n\u001b[1;32m     15\u001b[0m     \u001b[0mnumit\u001b[0m \u001b[0;34m=\u001b[0m \u001b[0mmath\u001b[0m\u001b[0;34m.\u001b[0m\u001b[0mceil\u001b[0m\u001b[0;34m(\u001b[0m\u001b[0mfloat\u001b[0m\u001b[0;34m(\u001b[0m\u001b[0msoup\u001b[0m\u001b[0;34m.\u001b[0m\u001b[0mfind\u001b[0m\u001b[0;34m(\u001b[0m\u001b[0;34m'div'\u001b[0m\u001b[0;34m,\u001b[0m \u001b[0;34m{\u001b[0m\u001b[0;34m'id'\u001b[0m\u001b[0;34m:\u001b[0m \u001b[0;34m'count-data'\u001b[0m\u001b[0;34m}\u001b[0m\u001b[0;34m)\u001b[0m\u001b[0;34m.\u001b[0m\u001b[0mtext\u001b[0m\u001b[0;34m)\u001b[0m\u001b[0;34m/\u001b[0m\u001b[0;36m5\u001b[0m\u001b[0;34m)\u001b[0m\u001b[0;34m\u001b[0m\u001b[0m\n\u001b[1;32m     16\u001b[0m     \u001b[0;32mfor\u001b[0m \u001b[0mi\u001b[0m \u001b[0;32min\u001b[0m \u001b[0mrange\u001b[0m\u001b[0;34m(\u001b[0m\u001b[0mint\u001b[0m\u001b[0;34m(\u001b[0m\u001b[0mnumit\u001b[0m\u001b[0;34m)\u001b[0m\u001b[0;34m)\u001b[0m\u001b[0;34m:\u001b[0m\u001b[0;34m\u001b[0m\u001b[0m\n\u001b[0;32m---> 17\u001b[0;31m         \u001b[0mget_trail_report\u001b[0m\u001b[0;34m(\u001b[0m\u001b[0mtitle\u001b[0m\u001b[0;34m,\u001b[0m \u001b[0mhikeurl\u001b[0m\u001b[0;34m,\u001b[0m \u001b[0mparams\u001b[0m\u001b[0;34m=\u001b[0m\u001b[0;34m{\u001b[0m\u001b[0;34m'b_start:int'\u001b[0m\u001b[0;34m:\u001b[0m \u001b[0mstr\u001b[0m\u001b[0;34m(\u001b[0m\u001b[0mi\u001b[0m\u001b[0;34m*\u001b[0m\u001b[0;36m5\u001b[0m\u001b[0;34m)\u001b[0m\u001b[0;34m}\u001b[0m\u001b[0;34m)\u001b[0m\u001b[0;34m\u001b[0m\u001b[0m\n\u001b[0m",
      "\u001b[0;32m<ipython-input-8-56e5ce894a40>\u001b[0m in \u001b[0;36mget_trail_report\u001b[0;34m(title, hikeurl, params)\u001b[0m\n\u001b[1;32m     15\u001b[0m     \u001b[0msoup\u001b[0m \u001b[0;34m=\u001b[0m \u001b[0mBeautifulSoup\u001b[0m\u001b[0;34m(\u001b[0m\u001b[0mr\u001b[0m\u001b[0;34m,\u001b[0m \u001b[0;34m'lxml'\u001b[0m\u001b[0;34m)\u001b[0m\u001b[0;34m\u001b[0m\u001b[0m\n\u001b[1;32m     16\u001b[0m     \u001b[0;32mfor\u001b[0m \u001b[0mtrip_report_div\u001b[0m \u001b[0;32min\u001b[0m \u001b[0msoup\u001b[0m\u001b[0;34m.\u001b[0m\u001b[0mselect\u001b[0m\u001b[0;34m(\u001b[0m\u001b[0;34m'div#trip-reports div.item'\u001b[0m\u001b[0;34m)\u001b[0m\u001b[0;34m:\u001b[0m\u001b[0;34m\u001b[0m\u001b[0m\n\u001b[0;32m---> 17\u001b[0;31m         \u001b[0mtrip_report\u001b[0m \u001b[0;34m=\u001b[0m \u001b[0mparse_trip_report\u001b[0m\u001b[0;34m(\u001b[0m\u001b[0mtrip_report_div\u001b[0m\u001b[0;34m)\u001b[0m\u001b[0;34m\u001b[0m\u001b[0m\n\u001b[0m\u001b[1;32m     18\u001b[0m         \u001b[0mmt_ellinor_reports\u001b[0m\u001b[0;34m.\u001b[0m\u001b[0minsert_one\u001b[0m\u001b[0;34m(\u001b[0m\u001b[0mtrip_report\u001b[0m\u001b[0;34m)\u001b[0m\u001b[0;34m\u001b[0m\u001b[0m\n",
      "\u001b[0;32m<ipython-input-7-754edbf9a774>\u001b[0m in \u001b[0;36mparse_trip_report\u001b[0;34m(trip_report_div)\u001b[0m\n\u001b[1;32m      2\u001b[0m     \u001b[0;34m\"\"\"Return a dictionary representing a single trip report.\"\"\"\u001b[0m\u001b[0;34m\u001b[0m\u001b[0m\n\u001b[1;32m      3\u001b[0m     \u001b[0mcreator\u001b[0m \u001b[0;34m=\u001b[0m \u001b[0mselect_text\u001b[0m\u001b[0;34m(\u001b[0m\u001b[0mtrip_report_div\u001b[0m\u001b[0;34m,\u001b[0m \u001b[0;34m'div.CreatorInfo span a'\u001b[0m\u001b[0;34m)\u001b[0m\u001b[0;34m\u001b[0m\u001b[0m\n\u001b[0;32m----> 4\u001b[0;31m     \u001b[0mdate\u001b[0m \u001b[0;34m=\u001b[0m \u001b[0mselect_text\u001b[0m\u001b[0;34m(\u001b[0m\u001b[0mtrip_report_div\u001b[0m\u001b[0;34m,\u001b[0m \u001b[0;34m'span.elapsed-time'\u001b[0m\u001b[0;34m)\u001b[0m\u001b[0;34m[\u001b[0m\u001b[0;34m'title'\u001b[0m\u001b[0;34m]\u001b[0m\u001b[0;34m\u001b[0m\u001b[0m\n\u001b[0m\u001b[1;32m      5\u001b[0m     \u001b[0mreport\u001b[0m \u001b[0;34m=\u001b[0m \u001b[0mselect_text\u001b[0m\u001b[0;34m(\u001b[0m\u001b[0mtrip_report_div\u001b[0m\u001b[0;34m,\u001b[0m\u001b[0;34m'div.show-with-full'\u001b[0m\u001b[0;34m)\u001b[0m\u001b[0;34m\u001b[0m\u001b[0m\n\u001b[1;32m      6\u001b[0m     \u001b[0mtrail_conditions\u001b[0m \u001b[0;34m=\u001b[0m \u001b[0mselect_text\u001b[0m\u001b[0;34m(\u001b[0m\u001b[0mtrip_report_div\u001b[0m\u001b[0;34m,\u001b[0m\u001b[0;34m'div.trail-issues'\u001b[0m\u001b[0;34m)\u001b[0m\u001b[0;34m\u001b[0m\u001b[0m\n",
      "\u001b[0;31mTypeError\u001b[0m: string indices must be integers"
     ]
    }
   ],
   "source": [
    "iterate_all_reports('mt_ellinor',\"https://www.wta.org/go-hiking/hikes/mount-ellinor\")"
   ]
  },
  {
   "cell_type": "code",
   "execution_count": null,
   "metadata": {
    "collapsed": true
   },
   "outputs": [],
   "source": [
    "df = pd.DataFrame(list( mt_ellinor_reports.find()))"
   ]
  }
 ],
 "metadata": {
  "kernelspec": {
   "display_name": "Python 3",
   "language": "python",
   "name": "python3"
  },
  "language_info": {
   "codemirror_mode": {
    "name": "ipython",
    "version": 3
   },
   "file_extension": ".py",
   "mimetype": "text/x-python",
   "name": "python",
   "nbconvert_exporter": "python",
   "pygments_lexer": "ipython3",
   "version": "3.6.3"
  }
 },
 "nbformat": 4,
 "nbformat_minor": 2
}
